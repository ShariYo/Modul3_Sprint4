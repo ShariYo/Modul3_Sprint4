{
 "cells": [
  {
   "cell_type": "code",
   "execution_count": null,
   "metadata": {},
   "outputs": [],
   "source": [
    "import pandas as pd\n",
    "import numpy as np\n",
    "import matplotlib.pyplot as plt\n",
    "import seaborn as sns\n",
    "import importlib\n",
    "import functions_sandbox as sand\n",
    "importlib.reload(sand)\n",
    "import pickle\n",
    "import time\n",
    "from imblearn.pipeline import make_pipeline\n",
    "from sklearn.metrics import accuracy_score, classification_report\n",
    "from sklearn.preprocessing import StandardScaler, OneHotEncoder\n",
    "from sklearn.compose import ColumnTransformer, make_column_selector as selector\n",
    "from sklearn.model_selection import (\n",
    "    train_test_split,\n",
    "    cross_validate,\n",
    "    KFold,\n",
    "    RandomizedSearchCV,\n",
    "    StratifiedKFold\n",
    ")\n",
    "from sklearn.neighbors import KNeighborsClassifier\n",
    "from sklearn.linear_model import LogisticRegression, Ridge, Lasso\n",
    "from sklearn.ensemble import RandomForestClassifier\n",
    "from xgboost import XGBClassifier"
   ]
  },
  {
   "cell_type": "markdown",
   "metadata": {},
   "source": [
    "---"
   ]
  },
  {
   "cell_type": "markdown",
   "metadata": {},
   "source": [
    "## ML modeling"
   ]
  },
  {
   "cell_type": "markdown",
   "metadata": {},
   "source": [
    "#### Preprocessing"
   ]
  },
  {
   "cell_type": "code",
   "execution_count": 2,
   "metadata": {},
   "outputs": [],
   "source": [
    "path_train = r\"D:\\IT_projects\\Turing_Colledge\\train_df.csv\""
   ]
  },
  {
   "cell_type": "code",
   "execution_count": 3,
   "metadata": {},
   "outputs": [
    {
     "data": {
      "text/html": [
       "<div>\n",
       "<style scoped>\n",
       "    .dataframe tbody tr th:only-of-type {\n",
       "        vertical-align: middle;\n",
       "    }\n",
       "\n",
       "    .dataframe tbody tr th {\n",
       "        vertical-align: top;\n",
       "    }\n",
       "\n",
       "    .dataframe thead th {\n",
       "        text-align: right;\n",
       "    }\n",
       "</style>\n",
       "<table border=\"1\" class=\"dataframe\">\n",
       "  <thead>\n",
       "    <tr style=\"text-align: right;\">\n",
       "      <th></th>\n",
       "      <th>target</th>\n",
       "      <th>name_contract_type</th>\n",
       "      <th>code_gender</th>\n",
       "      <th>flag_own_car</th>\n",
       "      <th>flag_own_realty</th>\n",
       "      <th>cnt_children</th>\n",
       "      <th>amt_annuity</th>\n",
       "      <th>name_type_suite</th>\n",
       "      <th>name_income_type</th>\n",
       "      <th>name_education_type</th>\n",
       "      <th>...</th>\n",
       "      <th>amt_req_credit_bureau_hour</th>\n",
       "      <th>amt_req_credit_bureau_day</th>\n",
       "      <th>amt_req_credit_bureau_week</th>\n",
       "      <th>amt_req_credit_bureau_mon</th>\n",
       "      <th>amt_req_credit_bureau_qrt</th>\n",
       "      <th>amt_req_credit_bureau_year</th>\n",
       "      <th>active_credit_count</th>\n",
       "      <th>total_debt_all</th>\n",
       "      <th>prol_credits</th>\n",
       "      <th>credit_to_income</th>\n",
       "    </tr>\n",
       "  </thead>\n",
       "  <tbody>\n",
       "    <tr>\n",
       "      <th>0</th>\n",
       "      <td>1</td>\n",
       "      <td>Cash loans</td>\n",
       "      <td>M</td>\n",
       "      <td>N</td>\n",
       "      <td>Y</td>\n",
       "      <td>0</td>\n",
       "      <td>10.114619</td>\n",
       "      <td>Unaccompanied</td>\n",
       "      <td>Working</td>\n",
       "      <td>Secondary / secondary special</td>\n",
       "      <td>...</td>\n",
       "      <td>0</td>\n",
       "      <td>0</td>\n",
       "      <td>0</td>\n",
       "      <td>0</td>\n",
       "      <td>0</td>\n",
       "      <td>1</td>\n",
       "      <td>1.098612</td>\n",
       "      <td>positive</td>\n",
       "      <td>0.0</td>\n",
       "      <td>1.101238</td>\n",
       "    </tr>\n",
       "    <tr>\n",
       "      <th>1</th>\n",
       "      <td>0</td>\n",
       "      <td>Cash loans</td>\n",
       "      <td>F</td>\n",
       "      <td>N</td>\n",
       "      <td>N</td>\n",
       "      <td>0</td>\n",
       "      <td>10.482892</td>\n",
       "      <td>Family</td>\n",
       "      <td>State servant</td>\n",
       "      <td>Higher education</td>\n",
       "      <td>...</td>\n",
       "      <td>0</td>\n",
       "      <td>0</td>\n",
       "      <td>0</td>\n",
       "      <td>0</td>\n",
       "      <td>0</td>\n",
       "      <td>0</td>\n",
       "      <td>0.693147</td>\n",
       "      <td>0</td>\n",
       "      <td>0.0</td>\n",
       "      <td>1.756262</td>\n",
       "    </tr>\n",
       "    <tr>\n",
       "      <th>2</th>\n",
       "      <td>0</td>\n",
       "      <td>Revolving loans</td>\n",
       "      <td>M</td>\n",
       "      <td>Y</td>\n",
       "      <td>Y</td>\n",
       "      <td>0</td>\n",
       "      <td>8.817446</td>\n",
       "      <td>Unaccompanied</td>\n",
       "      <td>Working</td>\n",
       "      <td>Secondary / secondary special</td>\n",
       "      <td>...</td>\n",
       "      <td>0</td>\n",
       "      <td>0</td>\n",
       "      <td>0</td>\n",
       "      <td>0</td>\n",
       "      <td>0</td>\n",
       "      <td>0</td>\n",
       "      <td>0.000000</td>\n",
       "      <td>0</td>\n",
       "      <td>0.0</td>\n",
       "      <td>1.098612</td>\n",
       "    </tr>\n",
       "  </tbody>\n",
       "</table>\n",
       "<p>3 rows × 71 columns</p>\n",
       "</div>"
      ],
      "text/plain": [
       "   target name_contract_type code_gender flag_own_car flag_own_realty  \\\n",
       "0       1         Cash loans           M            N               Y   \n",
       "1       0         Cash loans           F            N               N   \n",
       "2       0    Revolving loans           M            Y               Y   \n",
       "\n",
       "   cnt_children  amt_annuity name_type_suite name_income_type  \\\n",
       "0             0    10.114619   Unaccompanied          Working   \n",
       "1             0    10.482892          Family    State servant   \n",
       "2             0     8.817446   Unaccompanied          Working   \n",
       "\n",
       "             name_education_type  ... amt_req_credit_bureau_hour  \\\n",
       "0  Secondary / secondary special  ...                          0   \n",
       "1               Higher education  ...                          0   \n",
       "2  Secondary / secondary special  ...                          0   \n",
       "\n",
       "  amt_req_credit_bureau_day  amt_req_credit_bureau_week  \\\n",
       "0                         0                           0   \n",
       "1                         0                           0   \n",
       "2                         0                           0   \n",
       "\n",
       "   amt_req_credit_bureau_mon  amt_req_credit_bureau_qrt  \\\n",
       "0                          0                          0   \n",
       "1                          0                          0   \n",
       "2                          0                          0   \n",
       "\n",
       "   amt_req_credit_bureau_year  active_credit_count  total_debt_all  \\\n",
       "0                           1             1.098612        positive   \n",
       "1                           0             0.693147               0   \n",
       "2                           0             0.000000               0   \n",
       "\n",
       "   prol_credits  credit_to_income  \n",
       "0           0.0          1.101238  \n",
       "1           0.0          1.756262  \n",
       "2           0.0          1.098612  \n",
       "\n",
       "[3 rows x 71 columns]"
      ]
     },
     "execution_count": 3,
     "metadata": {},
     "output_type": "execute_result"
    }
   ],
   "source": [
    "df_train = pd.read_csv(path_train)\n",
    "df_train.head(3)"
   ]
  },
  {
   "cell_type": "code",
   "execution_count": 4,
   "metadata": {},
   "outputs": [],
   "source": [
    "X = df_train.drop(columns=\"target\", axis=1)\n",
    "y = df_train[\"target\"]\n",
    "\n",
    "num_selector = selector(dtype_include=np.number)\n",
    "cat_selector = selector(dtype_include=[object, \"category\"])\n",
    "numeric = num_selector(X)\n",
    "categoric = cat_selector(X)\n",
    "\n",
    "cat_preprocessor = OneHotEncoder(handle_unknown=\"ignore\", sparse_output=True)\n",
    "num_preprocessor = StandardScaler()\n",
    "\n",
    "preprocessor = ColumnTransformer(\n",
    "    [\n",
    "        (\"one-hot-encoder\", cat_preprocessor, categoric),\n",
    "        (\"standard_scaler\", num_preprocessor, numeric)\n",
    "    ]\n",
    ")\n",
    "\n",
    "data_train, data_test, target_train, target_test = train_test_split(\n",
    "    X, y, random_state=42, test_size=0.2\n",
    ")"
   ]
  },
  {
   "cell_type": "markdown",
   "metadata": {},
   "source": [
    "---"
   ]
  },
  {
   "cell_type": "markdown",
   "metadata": {},
   "source": [
    "#### Model Selection"
   ]
  },
  {
   "cell_type": "markdown",
   "metadata": {},
   "source": [
    "At this part we will select 5 models to work with:  \n",
    "KNN, Logistic Regression, SVC, Random Forest, XGBoost"
   ]
  },
  {
   "cell_type": "code",
   "execution_count": 6,
   "metadata": {},
   "outputs": [],
   "source": [
    "pipeline = make_pipeline(preprocessor, RandomForestClassifier(n_estimators=50, min_samples_split=100, min_samples_leaf=50, max_leaf_nodes=1000, max_depth=20, class_weight='balanced'))\n",
    "_ = pipeline.fit(data_train, target_train)\n",
    "pred_proba = pipeline.predict_proba(data_test)\n",
    "predictions = pipeline.predict(data_test)"
   ]
  },
  {
   "cell_type": "code",
   "execution_count": null,
   "metadata": {},
   "outputs": [
    {
     "name": "stdout",
     "output_type": "stream",
     "text": [
      "Model name: KNN\n",
      "Score: 0.9132562639220851\n",
      "CV score: 0.914 +- 0.00020764640836885102\n",
      "Precision score: 0.92\n",
      "Recall score: 0.99\n",
      "F1 score: 0.95\n",
      "None\n",
      "\n"
     ]
    },
    {
     "name": "stderr",
     "output_type": "stream",
     "text": [
      "c:\\Users\\Vykintas\\AppData\\Local\\Programs\\Python\\Python311\\Lib\\site-packages\\sklearn\\linear_model\\_sag.py:350: ConvergenceWarning: The max_iter was reached which means the coef_ did not converge\n",
      "  warnings.warn(\n",
      "c:\\Users\\Vykintas\\AppData\\Local\\Programs\\Python\\Python311\\Lib\\site-packages\\sklearn\\linear_model\\_sag.py:350: ConvergenceWarning: The max_iter was reached which means the coef_ did not converge\n",
      "  warnings.warn(\n",
      "c:\\Users\\Vykintas\\AppData\\Local\\Programs\\Python\\Python311\\Lib\\site-packages\\sklearn\\linear_model\\_sag.py:350: ConvergenceWarning: The max_iter was reached which means the coef_ did not converge\n",
      "  warnings.warn(\n",
      "c:\\Users\\Vykintas\\AppData\\Local\\Programs\\Python\\Python311\\Lib\\site-packages\\sklearn\\linear_model\\_sag.py:350: ConvergenceWarning: The max_iter was reached which means the coef_ did not converge\n",
      "  warnings.warn(\n",
      "c:\\Users\\Vykintas\\AppData\\Local\\Programs\\Python\\Python311\\Lib\\site-packages\\sklearn\\linear_model\\_sag.py:350: ConvergenceWarning: The max_iter was reached which means the coef_ did not converge\n",
      "  warnings.warn(\n",
      "c:\\Users\\Vykintas\\AppData\\Local\\Programs\\Python\\Python311\\Lib\\site-packages\\sklearn\\linear_model\\_sag.py:350: ConvergenceWarning: The max_iter was reached which means the coef_ did not converge\n",
      "  warnings.warn(\n"
     ]
    },
    {
     "name": "stdout",
     "output_type": "stream",
     "text": [
      "Model name: Logistic Regression\n",
      "Score: 0.9193535274702047\n",
      "CV score: 0.919 +- 0.00026567901462431446\n",
      "Precision score: 0.92\n",
      "Recall score: 1.00\n",
      "F1 score: 0.96\n",
      "None\n",
      "\n",
      "Model name: Random Forest\n",
      "Score: 0.9195811586426679\n",
      "CV score: 0.919 +- 6.774549917304057e-05\n",
      "Precision score: 0.92\n",
      "Recall score: 1.00\n",
      "F1 score: 0.96\n",
      "None\n",
      "\n",
      "Model name: XGBoost\n",
      "Score: 0.9191421556672033\n",
      "CV score: 0.919 +- 0.00023047357962757367\n",
      "Precision score: 0.92\n",
      "Recall score: 1.00\n",
      "F1 score: 0.96\n",
      "None\n",
      "\n",
      "Total time to complete: 33.72 minutes\n"
     ]
    }
   ],
   "source": [
    "start = time.time()\n",
    "models = {\n",
    "    \"KNN\": KNeighborsClassifier(),\n",
    "    \"Logistic Regression\": LogisticRegression(solver=\"saga\", max_iter=100),\n",
    "    # \"Ridge\": Ridge(),\n",
    "    # \"Lasso\": Lasso(),\n",
    "    \"Random Forest\": RandomForestClassifier(n_jobs=-1, n_estimators=50),\n",
    "    \"XGBoost\": XGBClassifier(tree_method=\"hist\", n_jobs=-1),\n",
    "}\n",
    "\n",
    "for model_name, model in models.items():\n",
    "    pipeline = make_pipeline(preprocessor, model)\n",
    "\n",
    "    score = cross_validate(pipeline, data_train, target_train, cv=5)\n",
    "\n",
    "    _ = pipeline.fit(data_train, target_train)\n",
    "    target_predicted = pipeline.predict(data_test)\n",
    "\n",
    "    print(f\"Model name: {model_name}\")\n",
    "    print(f\"Score: {pipeline.score(data_test, target_test)}\")\n",
    "    print(f\"CV score: {score['test_score'].mean():.3f} +- {score['test_score'].std()}\")\n",
    "    print(f\"{sand.model_result_calc(target_test, target_predicted, pos_label=0)}\\n\")\n",
    "stop = round((time.time() - start) / 60, 2)\n",
    "print(f\"Total time to complete: {stop} minutes\")"
   ]
  },
  {
   "cell_type": "code",
   "execution_count": null,
   "metadata": {},
   "outputs": [
    {
     "name": "stdout",
     "output_type": "stream",
     "text": [
      "Fitting 5 folds for each of 20 candidates, totalling 100 fits\n",
      "Best parameters for RandomForest: {'randomforestclassifier__n_estimators': 50, 'randomforestclassifier__min_samples_split': 100, 'randomforestclassifier__min_samples_leaf': 50, 'randomforestclassifier__max_leaf_nodes': 1000, 'randomforestclassifier__max_depth': 20, 'randomforestclassifier__class_weight': 'balanced'}\n",
      "Total time to complete: 11.34 minutes\n"
     ]
    }
   ],
   "source": [
    "rf_model = RandomForestClassifier()\n",
    "\n",
    "pipeline = make_pipeline(preprocessor, rf_model)\n",
    "\n",
    "rf_hparams = {\n",
    "    \"randomforestclassifier__max_depth\": [2, 5, 10, 20],\n",
    "    \"randomforestclassifier__n_estimators\": [1, 10, 25, 50, 100],\n",
    "    \"randomforestclassifier__max_leaf_nodes\": [10, 100, 1000],\n",
    "    \"randomforestclassifier__min_samples_split\": [10, 20, 50, 100],\n",
    "    \"randomforestclassifier__min_samples_leaf\": [5, 10, 20, 50, 100],\n",
    "    \"randomforestclassifier__class_weight\": [\"balanced\"],\n",
    "}\n",
    "\n",
    "stratified_kfold = StratifiedKFold(n_splits=5, shuffle=True, random_state=42)\n",
    "\n",
    "start = time.time()\n",
    "random_search = RandomizedSearchCV(\n",
    "    estimator=pipeline,\n",
    "    param_distributions=rf_hparams,\n",
    "    n_iter=20,\n",
    "    cv=stratified_kfold,\n",
    "    verbose=2,\n",
    "    random_state=42,\n",
    "    n_jobs=-1,\n",
    ")\n",
    "\n",
    "random_search.fit(data_train, target_train)\n",
    "print(f\"Best parameters for RandomForest: {random_search.best_params_}\")\n",
    "stop = round((time.time() - start) / 60, 2)\n",
    "print(f\"Total time to complete: {stop} minutes\")"
   ]
  },
  {
   "cell_type": "code",
   "execution_count": null,
   "metadata": {},
   "outputs": [
    {
     "name": "stdout",
     "output_type": "stream",
     "text": [
      "Calculated accuracy: 0.7448\n"
     ]
    }
   ],
   "source": [
    "# RandomForest accuracy\n",
    "best_est = random_search.best_estimator_\n",
    "pred_best = best_est.predict(data_test)\n",
    "rf_accuracy = accuracy_score(target_test, pred_best)\n",
    "print(f\"Calculated accuracy: {rf_accuracy:.4f}\")"
   ]
  },
  {
   "cell_type": "code",
   "execution_count": 19,
   "metadata": {},
   "outputs": [
    {
     "name": "stdout",
     "output_type": "stream",
     "text": [
      "CV: 0.7509\n"
     ]
    }
   ],
   "source": [
    "# Cross-validation for score check\n",
    "cross = cross_validate(best_est, data_train, target_train, cv=5)\n",
    "\n",
    "print(f\"CV: {cross['test_score'].mean():.4f}\")"
   ]
  },
  {
   "cell_type": "code",
   "execution_count": 20,
   "metadata": {},
   "outputs": [
    {
     "name": "stdout",
     "output_type": "stream",
     "text": [
      "              precision    recall  f1-score   support\n",
      "\n",
      "           0       0.95      0.75      0.84     56554\n",
      "           1       0.17      0.59      0.27      4949\n",
      "\n",
      "    accuracy                           0.74     61503\n",
      "   macro avg       0.56      0.67      0.55     61503\n",
      "weighted avg       0.89      0.74      0.80     61503\n",
      "\n"
     ]
    }
   ],
   "source": [
    "print(classification_report(target_test, pred_best))"
   ]
  },
  {
   "cell_type": "markdown",
   "metadata": {},
   "source": [
    "---"
   ]
  },
  {
   "cell_type": "markdown",
   "metadata": {},
   "source": [
    "After the results I wanted to see features importance to the model. Some  \n",
    "features might be removed if importance is very low"
   ]
  },
  {
   "cell_type": "code",
   "execution_count": 34,
   "metadata": {},
   "outputs": [
    {
     "data": {
      "text/html": [
       "<div>\n",
       "<style scoped>\n",
       "    .dataframe tbody tr th:only-of-type {\n",
       "        vertical-align: middle;\n",
       "    }\n",
       "\n",
       "    .dataframe tbody tr th {\n",
       "        vertical-align: top;\n",
       "    }\n",
       "\n",
       "    .dataframe thead th {\n",
       "        text-align: right;\n",
       "    }\n",
       "</style>\n",
       "<table border=\"1\" class=\"dataframe\">\n",
       "  <thead>\n",
       "    <tr style=\"text-align: right;\">\n",
       "      <th></th>\n",
       "      <th>Feature</th>\n",
       "      <th>Importance</th>\n",
       "    </tr>\n",
       "  </thead>\n",
       "  <tbody>\n",
       "    <tr>\n",
       "      <th>151</th>\n",
       "      <td>standard_scaler__ext_source_3</td>\n",
       "      <td>0.174079</td>\n",
       "    </tr>\n",
       "    <tr>\n",
       "      <th>150</th>\n",
       "      <td>standard_scaler__ext_source_2</td>\n",
       "      <td>0.169010</td>\n",
       "    </tr>\n",
       "    <tr>\n",
       "      <th>131</th>\n",
       "      <td>standard_scaler__client_age</td>\n",
       "      <td>0.052419</td>\n",
       "    </tr>\n",
       "    <tr>\n",
       "      <th>132</th>\n",
       "      <td>standard_scaler__years_employed</td>\n",
       "      <td>0.047214</td>\n",
       "    </tr>\n",
       "    <tr>\n",
       "      <th>155</th>\n",
       "      <td>standard_scaler__days_last_phone_change</td>\n",
       "      <td>0.043489</td>\n",
       "    </tr>\n",
       "  </tbody>\n",
       "</table>\n",
       "</div>"
      ],
      "text/plain": [
       "                                     Feature  Importance\n",
       "151            standard_scaler__ext_source_3    0.174079\n",
       "150            standard_scaler__ext_source_2    0.169010\n",
       "131              standard_scaler__client_age    0.052419\n",
       "132          standard_scaler__years_employed    0.047214\n",
       "155  standard_scaler__days_last_phone_change    0.043489"
      ]
     },
     "execution_count": 34,
     "metadata": {},
     "output_type": "execute_result"
    }
   ],
   "source": [
    "# After fitting the random search\n",
    "best_rf_model = random_search.best_estimator_.named_steps['randomforestclassifier']\n",
    "\n",
    "# Get feature importances\n",
    "importances = best_rf_model.feature_importances_\n",
    "\n",
    "# Align feature importances with feature names\n",
    "feature_names = preprocessor.get_feature_names_out()\n",
    "feature_importances_df = pd.DataFrame({\n",
    "    'Feature': feature_names,\n",
    "    'Importance': importances\n",
    "})\n",
    "\n",
    "# Sort the DataFrame by importance\n",
    "feature_importances_df = feature_importances_df.sort_values(by='Importance', ascending=False)\n",
    "\n",
    "# Display the DataFrame\n",
    "feature_importances_df.head(5)"
   ]
  },
  {
   "cell_type": "markdown",
   "metadata": {},
   "source": [
    "Herein we can see few main features with the highest importance to the model.  \n",
    "At the EDA part, I thought that flag_document features might be not that important,  \n",
    "so I checked importance specially targeting only flag_document importance"
   ]
  },
  {
   "cell_type": "code",
   "execution_count": null,
   "metadata": {},
   "outputs": [],
   "source": [
    "flag_document = feature_importances_df[\n",
    "    feature_importances_df[\"Feature\"].str.contains(\"flag_document\")\n",
    "]\n",
    "flag_document"
   ]
  },
  {
   "cell_type": "markdown",
   "metadata": {},
   "source": [
    "As we can see, flag_documents importance is very low and these could be removed \n",
    "from dataset to increase model's performance"
   ]
  },
  {
   "cell_type": "code",
   "execution_count": 49,
   "metadata": {},
   "outputs": [],
   "source": [
    "flag_doc = data_train.columns[data_train.columns.str.contains(\"flag_document\")]\n",
    "data_train_v1 = data_train.drop(columns=flag_doc)\n",
    "data_test_v1 = data_test.drop(columns=flag_doc)"
   ]
  },
  {
   "cell_type": "code",
   "execution_count": null,
   "metadata": {},
   "outputs": [
    {
     "name": "stdout",
     "output_type": "stream",
     "text": [
      "Fitting 5 folds for each of 20 candidates, totalling 100 fits\n"
     ]
    }
   ],
   "source": [
    "random_search.fit(data_train, target_train)\n",
    "\n",
    "best_est = random_search.best_estimator_\n",
    "pred_best = best_est.predict(data_test)\n",
    "rf_accuracy = accuracy_score(target_test, pred_best)\n",
    "print(f\"Calculated accuracy: {rf_accuracy:.4f}\")"
   ]
  },
  {
   "cell_type": "code",
   "execution_count": null,
   "metadata": {},
   "outputs": [],
   "source": [
    "clean_test = pd.read_csv(\"clean_test.csv\")"
   ]
  },
  {
   "cell_type": "code",
   "execution_count": 41,
   "metadata": {},
   "outputs": [],
   "source": [
    "to_predict = clean_test.iloc[5]"
   ]
  },
  {
   "cell_type": "code",
   "execution_count": 52,
   "metadata": {},
   "outputs": [
    {
     "name": "stdout",
     "output_type": "stream",
     "text": [
      "Prediction probality of default loan is: [0.58804818]\n",
      "Final prediction is: [ True]\n"
     ]
    }
   ],
   "source": [
    "pred_target = best_est.predict_proba(clean_test.iloc[199:200])[:, 1]\n",
    "prediction = pred_target >= 0.5\n",
    "\n",
    "print(f\"Prediction probality of default loan is: {pred_target}\")\n",
    "print(f\"Final prediction is: {prediction}\")"
   ]
  },
  {
   "cell_type": "code",
   "execution_count": null,
   "metadata": {},
   "outputs": [
    {
     "data": {
      "text/html": [
       "<style>#sk-container-id-4 {color: black;background-color: white;}#sk-container-id-4 pre{padding: 0;}#sk-container-id-4 div.sk-toggleable {background-color: white;}#sk-container-id-4 label.sk-toggleable__label {cursor: pointer;display: block;width: 100%;margin-bottom: 0;padding: 0.3em;box-sizing: border-box;text-align: center;}#sk-container-id-4 label.sk-toggleable__label-arrow:before {content: \"▸\";float: left;margin-right: 0.25em;color: #696969;}#sk-container-id-4 label.sk-toggleable__label-arrow:hover:before {color: black;}#sk-container-id-4 div.sk-estimator:hover label.sk-toggleable__label-arrow:before {color: black;}#sk-container-id-4 div.sk-toggleable__content {max-height: 0;max-width: 0;overflow: hidden;text-align: left;background-color: #f0f8ff;}#sk-container-id-4 div.sk-toggleable__content pre {margin: 0.2em;color: black;border-radius: 0.25em;background-color: #f0f8ff;}#sk-container-id-4 input.sk-toggleable__control:checked~div.sk-toggleable__content {max-height: 200px;max-width: 100%;overflow: auto;}#sk-container-id-4 input.sk-toggleable__control:checked~label.sk-toggleable__label-arrow:before {content: \"▾\";}#sk-container-id-4 div.sk-estimator input.sk-toggleable__control:checked~label.sk-toggleable__label {background-color: #d4ebff;}#sk-container-id-4 div.sk-label input.sk-toggleable__control:checked~label.sk-toggleable__label {background-color: #d4ebff;}#sk-container-id-4 input.sk-hidden--visually {border: 0;clip: rect(1px 1px 1px 1px);clip: rect(1px, 1px, 1px, 1px);height: 1px;margin: -1px;overflow: hidden;padding: 0;position: absolute;width: 1px;}#sk-container-id-4 div.sk-estimator {font-family: monospace;background-color: #f0f8ff;border: 1px dotted black;border-radius: 0.25em;box-sizing: border-box;margin-bottom: 0.5em;}#sk-container-id-4 div.sk-estimator:hover {background-color: #d4ebff;}#sk-container-id-4 div.sk-parallel-item::after {content: \"\";width: 100%;border-bottom: 1px solid gray;flex-grow: 1;}#sk-container-id-4 div.sk-label:hover label.sk-toggleable__label {background-color: #d4ebff;}#sk-container-id-4 div.sk-serial::before {content: \"\";position: absolute;border-left: 1px solid gray;box-sizing: border-box;top: 0;bottom: 0;left: 50%;z-index: 0;}#sk-container-id-4 div.sk-serial {display: flex;flex-direction: column;align-items: center;background-color: white;padding-right: 0.2em;padding-left: 0.2em;position: relative;}#sk-container-id-4 div.sk-item {position: relative;z-index: 1;}#sk-container-id-4 div.sk-parallel {display: flex;align-items: stretch;justify-content: center;background-color: white;position: relative;}#sk-container-id-4 div.sk-item::before, #sk-container-id-4 div.sk-parallel-item::before {content: \"\";position: absolute;border-left: 1px solid gray;box-sizing: border-box;top: 0;bottom: 0;left: 50%;z-index: -1;}#sk-container-id-4 div.sk-parallel-item {display: flex;flex-direction: column;z-index: 1;position: relative;background-color: white;}#sk-container-id-4 div.sk-parallel-item:first-child::after {align-self: flex-end;width: 50%;}#sk-container-id-4 div.sk-parallel-item:last-child::after {align-self: flex-start;width: 50%;}#sk-container-id-4 div.sk-parallel-item:only-child::after {width: 0;}#sk-container-id-4 div.sk-dashed-wrapped {border: 1px dashed gray;margin: 0 0.4em 0.5em 0.4em;box-sizing: border-box;padding-bottom: 0.4em;background-color: white;}#sk-container-id-4 div.sk-label label {font-family: monospace;font-weight: bold;display: inline-block;line-height: 1.2em;}#sk-container-id-4 div.sk-label-container {text-align: center;}#sk-container-id-4 div.sk-container {/* jupyter's `normalize.less` sets `[hidden] { display: none; }` but bootstrap.min.css set `[hidden] { display: none !important; }` so we also need the `!important` here to be able to override the default hidden behavior on the sphinx rendered scikit-learn.org. See: https://github.com/scikit-learn/scikit-learn/issues/21755 */display: inline-block !important;position: relative;}#sk-container-id-4 div.sk-text-repr-fallback {display: none;}</style><div id=\"sk-container-id-4\" class=\"sk-top-container\"><div class=\"sk-text-repr-fallback\"><pre>Pipeline(steps=[(&#x27;columntransformer&#x27;,\n",
       "                 ColumnTransformer(transformers=[(&#x27;one-hot-encoder&#x27;,\n",
       "                                                  OneHotEncoder(handle_unknown=&#x27;ignore&#x27;),\n",
       "                                                  [&#x27;name_contract_type&#x27;,\n",
       "                                                   &#x27;code_gender&#x27;,\n",
       "                                                   &#x27;flag_own_car&#x27;,\n",
       "                                                   &#x27;flag_own_realty&#x27;,\n",
       "                                                   &#x27;name_type_suite&#x27;,\n",
       "                                                   &#x27;name_income_type&#x27;,\n",
       "                                                   &#x27;name_education_type&#x27;,\n",
       "                                                   &#x27;name_family_status&#x27;,\n",
       "                                                   &#x27;name_housing_type&#x27;,\n",
       "                                                   &#x27;occupation_type&#x27;,\n",
       "                                                   &#x27;weekday_appr_process_start&#x27;,\n",
       "                                                   &#x27;organi...\n",
       "                                                   &#x27;live_city_not_work_city&#x27;,\n",
       "                                                   &#x27;ext_source_2&#x27;,\n",
       "                                                   &#x27;ext_source_3&#x27;,\n",
       "                                                   &#x27;def_30_cnt_social_circle&#x27;,\n",
       "                                                   &#x27;obs_60_cnt_social_circle&#x27;,\n",
       "                                                   &#x27;def_60_cnt_social_circle&#x27;,\n",
       "                                                   &#x27;days_last_phone_change&#x27;,\n",
       "                                                   &#x27;flag_document_2&#x27;, ...])])),\n",
       "                (&#x27;randomforestclassifier&#x27;,\n",
       "                 RandomForestClassifier(class_weight=&#x27;balanced&#x27;, max_depth=20,\n",
       "                                        max_leaf_nodes=1000,\n",
       "                                        min_samples_leaf=50,\n",
       "                                        min_samples_split=100,\n",
       "                                        n_estimators=50))])</pre><b>In a Jupyter environment, please rerun this cell to show the HTML representation or trust the notebook. <br />On GitHub, the HTML representation is unable to render, please try loading this page with nbviewer.org.</b></div><div class=\"sk-container\" hidden><div class=\"sk-item sk-dashed-wrapped\"><div class=\"sk-label-container\"><div class=\"sk-label sk-toggleable\"><input class=\"sk-toggleable__control sk-hidden--visually\" id=\"sk-estimator-id-22\" type=\"checkbox\" ><label for=\"sk-estimator-id-22\" class=\"sk-toggleable__label sk-toggleable__label-arrow\">Pipeline</label><div class=\"sk-toggleable__content\"><pre>Pipeline(steps=[(&#x27;columntransformer&#x27;,\n",
       "                 ColumnTransformer(transformers=[(&#x27;one-hot-encoder&#x27;,\n",
       "                                                  OneHotEncoder(handle_unknown=&#x27;ignore&#x27;),\n",
       "                                                  [&#x27;name_contract_type&#x27;,\n",
       "                                                   &#x27;code_gender&#x27;,\n",
       "                                                   &#x27;flag_own_car&#x27;,\n",
       "                                                   &#x27;flag_own_realty&#x27;,\n",
       "                                                   &#x27;name_type_suite&#x27;,\n",
       "                                                   &#x27;name_income_type&#x27;,\n",
       "                                                   &#x27;name_education_type&#x27;,\n",
       "                                                   &#x27;name_family_status&#x27;,\n",
       "                                                   &#x27;name_housing_type&#x27;,\n",
       "                                                   &#x27;occupation_type&#x27;,\n",
       "                                                   &#x27;weekday_appr_process_start&#x27;,\n",
       "                                                   &#x27;organi...\n",
       "                                                   &#x27;live_city_not_work_city&#x27;,\n",
       "                                                   &#x27;ext_source_2&#x27;,\n",
       "                                                   &#x27;ext_source_3&#x27;,\n",
       "                                                   &#x27;def_30_cnt_social_circle&#x27;,\n",
       "                                                   &#x27;obs_60_cnt_social_circle&#x27;,\n",
       "                                                   &#x27;def_60_cnt_social_circle&#x27;,\n",
       "                                                   &#x27;days_last_phone_change&#x27;,\n",
       "                                                   &#x27;flag_document_2&#x27;, ...])])),\n",
       "                (&#x27;randomforestclassifier&#x27;,\n",
       "                 RandomForestClassifier(class_weight=&#x27;balanced&#x27;, max_depth=20,\n",
       "                                        max_leaf_nodes=1000,\n",
       "                                        min_samples_leaf=50,\n",
       "                                        min_samples_split=100,\n",
       "                                        n_estimators=50))])</pre></div></div></div><div class=\"sk-serial\"><div class=\"sk-item sk-dashed-wrapped\"><div class=\"sk-label-container\"><div class=\"sk-label sk-toggleable\"><input class=\"sk-toggleable__control sk-hidden--visually\" id=\"sk-estimator-id-23\" type=\"checkbox\" ><label for=\"sk-estimator-id-23\" class=\"sk-toggleable__label sk-toggleable__label-arrow\">columntransformer: ColumnTransformer</label><div class=\"sk-toggleable__content\"><pre>ColumnTransformer(transformers=[(&#x27;one-hot-encoder&#x27;,\n",
       "                                 OneHotEncoder(handle_unknown=&#x27;ignore&#x27;),\n",
       "                                 [&#x27;name_contract_type&#x27;, &#x27;code_gender&#x27;,\n",
       "                                  &#x27;flag_own_car&#x27;, &#x27;flag_own_realty&#x27;,\n",
       "                                  &#x27;name_type_suite&#x27;, &#x27;name_income_type&#x27;,\n",
       "                                  &#x27;name_education_type&#x27;, &#x27;name_family_status&#x27;,\n",
       "                                  &#x27;name_housing_type&#x27;, &#x27;occupation_type&#x27;,\n",
       "                                  &#x27;weekday_appr_process_start&#x27;,\n",
       "                                  &#x27;organization_type&#x27;, &#x27;total_debt_all&#x27;]),\n",
       "                                (&#x27;sta...\n",
       "                                  &#x27;hour_appr_process_start&#x27;,\n",
       "                                  &#x27;reg_region_not_live_region&#x27;,\n",
       "                                  &#x27;reg_region_not_work_region&#x27;,\n",
       "                                  &#x27;live_region_not_work_region&#x27;,\n",
       "                                  &#x27;reg_city_not_live_city&#x27;,\n",
       "                                  &#x27;reg_city_not_work_city&#x27;,\n",
       "                                  &#x27;live_city_not_work_city&#x27;, &#x27;ext_source_2&#x27;,\n",
       "                                  &#x27;ext_source_3&#x27;, &#x27;def_30_cnt_social_circle&#x27;,\n",
       "                                  &#x27;obs_60_cnt_social_circle&#x27;,\n",
       "                                  &#x27;def_60_cnt_social_circle&#x27;,\n",
       "                                  &#x27;days_last_phone_change&#x27;, &#x27;flag_document_2&#x27;, ...])])</pre></div></div></div><div class=\"sk-parallel\"><div class=\"sk-parallel-item\"><div class=\"sk-item\"><div class=\"sk-label-container\"><div class=\"sk-label sk-toggleable\"><input class=\"sk-toggleable__control sk-hidden--visually\" id=\"sk-estimator-id-24\" type=\"checkbox\" ><label for=\"sk-estimator-id-24\" class=\"sk-toggleable__label sk-toggleable__label-arrow\">one-hot-encoder</label><div class=\"sk-toggleable__content\"><pre>[&#x27;name_contract_type&#x27;, &#x27;code_gender&#x27;, &#x27;flag_own_car&#x27;, &#x27;flag_own_realty&#x27;, &#x27;name_type_suite&#x27;, &#x27;name_income_type&#x27;, &#x27;name_education_type&#x27;, &#x27;name_family_status&#x27;, &#x27;name_housing_type&#x27;, &#x27;occupation_type&#x27;, &#x27;weekday_appr_process_start&#x27;, &#x27;organization_type&#x27;, &#x27;total_debt_all&#x27;]</pre></div></div></div><div class=\"sk-serial\"><div class=\"sk-item\"><div class=\"sk-estimator sk-toggleable\"><input class=\"sk-toggleable__control sk-hidden--visually\" id=\"sk-estimator-id-25\" type=\"checkbox\" ><label for=\"sk-estimator-id-25\" class=\"sk-toggleable__label sk-toggleable__label-arrow\">OneHotEncoder</label><div class=\"sk-toggleable__content\"><pre>OneHotEncoder(handle_unknown=&#x27;ignore&#x27;)</pre></div></div></div></div></div></div><div class=\"sk-parallel-item\"><div class=\"sk-item\"><div class=\"sk-label-container\"><div class=\"sk-label sk-toggleable\"><input class=\"sk-toggleable__control sk-hidden--visually\" id=\"sk-estimator-id-26\" type=\"checkbox\" ><label for=\"sk-estimator-id-26\" class=\"sk-toggleable__label sk-toggleable__label-arrow\">standard_scaler</label><div class=\"sk-toggleable__content\"><pre>[&#x27;sk_id_curr&#x27;, &#x27;cnt_children&#x27;, &#x27;amt_annuity&#x27;, &#x27;region_population_relative&#x27;, &#x27;client_age&#x27;, &#x27;years_employed&#x27;, &#x27;years_registration&#x27;, &#x27;years_id_publish&#x27;, &#x27;flag_mobil&#x27;, &#x27;flag_emp_phone&#x27;, &#x27;flag_work_phone&#x27;, &#x27;flag_cont_mobile&#x27;, &#x27;flag_phone&#x27;, &#x27;flag_email&#x27;, &#x27;cnt_fam_members&#x27;, &#x27;region_rating_client_w_city&#x27;, &#x27;hour_appr_process_start&#x27;, &#x27;reg_region_not_live_region&#x27;, &#x27;reg_region_not_work_region&#x27;, &#x27;live_region_not_work_region&#x27;, &#x27;reg_city_not_live_city&#x27;, &#x27;reg_city_not_work_city&#x27;, &#x27;live_city_not_work_city&#x27;, &#x27;ext_source_2&#x27;, &#x27;ext_source_3&#x27;, &#x27;def_30_cnt_social_circle&#x27;, &#x27;obs_60_cnt_social_circle&#x27;, &#x27;def_60_cnt_social_circle&#x27;, &#x27;days_last_phone_change&#x27;, &#x27;flag_document_2&#x27;, &#x27;flag_document_3&#x27;, &#x27;flag_document_4&#x27;, &#x27;flag_document_5&#x27;, &#x27;flag_document_6&#x27;, &#x27;flag_document_7&#x27;, &#x27;flag_document_8&#x27;, &#x27;flag_document_9&#x27;, &#x27;flag_document_10&#x27;, &#x27;flag_document_11&#x27;, &#x27;flag_document_12&#x27;, &#x27;flag_document_13&#x27;, &#x27;flag_document_14&#x27;, &#x27;flag_document_15&#x27;, &#x27;flag_document_16&#x27;, &#x27;flag_document_17&#x27;, &#x27;flag_document_18&#x27;, &#x27;flag_document_19&#x27;, &#x27;flag_document_20&#x27;, &#x27;flag_document_21&#x27;, &#x27;amt_req_credit_bureau_hour&#x27;, &#x27;amt_req_credit_bureau_day&#x27;, &#x27;amt_req_credit_bureau_week&#x27;, &#x27;amt_req_credit_bureau_mon&#x27;, &#x27;amt_req_credit_bureau_qrt&#x27;, &#x27;amt_req_credit_bureau_year&#x27;, &#x27;active_credit_count&#x27;, &#x27;prol_credits&#x27;, &#x27;credit_to_income&#x27;]</pre></div></div></div><div class=\"sk-serial\"><div class=\"sk-item\"><div class=\"sk-estimator sk-toggleable\"><input class=\"sk-toggleable__control sk-hidden--visually\" id=\"sk-estimator-id-27\" type=\"checkbox\" ><label for=\"sk-estimator-id-27\" class=\"sk-toggleable__label sk-toggleable__label-arrow\">StandardScaler</label><div class=\"sk-toggleable__content\"><pre>StandardScaler()</pre></div></div></div></div></div></div></div></div><div class=\"sk-item\"><div class=\"sk-estimator sk-toggleable\"><input class=\"sk-toggleable__control sk-hidden--visually\" id=\"sk-estimator-id-28\" type=\"checkbox\" ><label for=\"sk-estimator-id-28\" class=\"sk-toggleable__label sk-toggleable__label-arrow\">RandomForestClassifier</label><div class=\"sk-toggleable__content\"><pre>RandomForestClassifier(class_weight=&#x27;balanced&#x27;, max_depth=20,\n",
       "                       max_leaf_nodes=1000, min_samples_leaf=50,\n",
       "                       min_samples_split=100, n_estimators=50)</pre></div></div></div></div></div></div></div>"
      ],
      "text/plain": [
       "Pipeline(steps=[('columntransformer',\n",
       "                 ColumnTransformer(transformers=[('one-hot-encoder',\n",
       "                                                  OneHotEncoder(handle_unknown='ignore'),\n",
       "                                                  ['name_contract_type',\n",
       "                                                   'code_gender',\n",
       "                                                   'flag_own_car',\n",
       "                                                   'flag_own_realty',\n",
       "                                                   'name_type_suite',\n",
       "                                                   'name_income_type',\n",
       "                                                   'name_education_type',\n",
       "                                                   'name_family_status',\n",
       "                                                   'name_housing_type',\n",
       "                                                   'occupation_type',\n",
       "                                                   'weekday_appr_process_start',\n",
       "                                                   'organi...\n",
       "                                                   'live_city_not_work_city',\n",
       "                                                   'ext_source_2',\n",
       "                                                   'ext_source_3',\n",
       "                                                   'def_30_cnt_social_circle',\n",
       "                                                   'obs_60_cnt_social_circle',\n",
       "                                                   'def_60_cnt_social_circle',\n",
       "                                                   'days_last_phone_change',\n",
       "                                                   'flag_document_2', ...])])),\n",
       "                ('randomforestclassifier',\n",
       "                 RandomForestClassifier(class_weight='balanced', max_depth=20,\n",
       "                                        max_leaf_nodes=1000,\n",
       "                                        min_samples_leaf=50,\n",
       "                                        min_samples_split=100,\n",
       "                                        n_estimators=50))])"
      ]
     },
     "execution_count": 54,
     "metadata": {},
     "output_type": "execute_result"
    }
   ],
   "source": [
    "model = best_est\n",
    "model.fit(data_train, target_train)"
   ]
  },
  {
   "cell_type": "code",
   "execution_count": null,
   "metadata": {},
   "outputs": [],
   "source": [
    "with open(\"model.pkl\", \"wb\") as f:\n",
    "    pickle.dump(model, f)"
   ]
  }
 ],
 "metadata": {
  "kernelspec": {
   "display_name": "Python 3",
   "language": "python",
   "name": "python3"
  },
  "language_info": {
   "codemirror_mode": {
    "name": "ipython",
    "version": 3
   },
   "file_extension": ".py",
   "mimetype": "text/x-python",
   "name": "python",
   "nbconvert_exporter": "python",
   "pygments_lexer": "ipython3",
   "version": "3.11.4"
  }
 },
 "nbformat": 4,
 "nbformat_minor": 2
}
